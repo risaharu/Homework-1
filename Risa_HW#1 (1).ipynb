{
 "cells": [
  {
   "cell_type": "code",
   "execution_count": 1,
   "id": "8ba5b40c",
   "metadata": {},
   "outputs": [
    {
     "data": {
      "text/plain": [
       "row_n           0\n",
       "id              1\n",
       "name            0\n",
       "gender          0\n",
       "species         0\n",
       "birthday        0\n",
       "personality     0\n",
       "song           11\n",
       "phrase          0\n",
       "full_id         0\n",
       "url             0\n",
       "dtype: int64"
      ]
     },
     "execution_count": 1,
     "metadata": {},
     "output_type": "execute_result"
    }
   ],
   "source": [
    "import pandas as pd\n",
    "url = \"https://raw.githubusercontent.com/rfordatascience/tidytuesday/master/data/2020/2020-05-05/villagers.csv\"\n",
    "df = pd.read_csv(url)\n",
    "df.isna().sum()"
   ]
  },
  {
   "cell_type": "code",
   "execution_count": 2,
   "id": "c9f6c29f",
   "metadata": {},
   "outputs": [
    {
     "name": "stdout",
     "output_type": "stream",
     "text": [
      "Number of rows: 1\n",
      "Number of columns: 11\n"
     ]
    }
   ],
   "source": [
    "import pandas as pd\n",
    "\n",
    "# Assuming the dataset is in a pandas DataFrame called 'df'\n",
    "df = pd.DataFrame({\n",
    "    'row_n': [0],\n",
    "    'id': [1],\n",
    "    'name': [0],\n",
    "    'gender': [0],\n",
    "    'species': [0],\n",
    "    'birthday': [0],\n",
    "    'personality': [0],\n",
    "    'song': [11],\n",
    "    'phrase': [0],\n",
    "    'full_id': [0],\n",
    "    'url': [0]\n",
    "})\n",
    "\n",
    "# To get the number of rows and columns\n",
    "num_rows, num_cols = df.shape\n",
    "\n",
    "print(f'Number of rows: {num_rows}')\n",
    "print(f'Number of columns: {num_cols}')"
   ]
  },
  {
   "cell_type": "markdown",
   "id": "ecec5d7b",
   "metadata": {},
   "source": [
    "Defenition of observation in the context of the dataset: \n",
    "An observation refers to a single instance or record in the dataset. It is a single row of data, where each row corresponds to a specific entity (such as a person, object, or event) being measured or described.\n",
    "In my dataset: \n",
    "The values in each row represent an observation of an entity (e.g., an animal or character). For example, a single observation might describe the attributes of one specific character, like their id, name, gender, etc.\n",
    "\n",
    "Defenition of variables in the context of the dataset:\n",
    "A variable refers to a characteristic, property, or attribute that is measured or recorded for each observation. Each variable corresponds to a column in the dataset, and it represents the same type of information across all observations.\n",
    "In my dataset: \n",
    "he column names (such as id, name, gender, species, etc.) are the variables. Each variable represents a different attribute that is being tracked across all observations."
   ]
  },
  {
   "cell_type": "code",
   "execution_count": 4,
   "id": "921ff975",
   "metadata": {},
   "outputs": [
    {
     "name": "stdout",
     "output_type": "stream",
     "text": [
      "             id      song      full_id\n",
      "count  5.000000   5.00000     5.000000\n",
      "mean   3.000000  11.80000  1003.000000\n",
      "std    1.581139   0.83666     1.581139\n",
      "min    1.000000  11.00000  1001.000000\n",
      "25%    2.000000  11.00000  1002.000000\n",
      "50%    3.000000  12.00000  1003.000000\n",
      "75%    4.000000  12.00000  1004.000000\n",
      "max    5.000000  13.00000  1005.000000\n",
      "species\n",
      "Cat    3\n",
      "Dog    2\n",
      "Name: count, dtype: int64\n"
     ]
    }
   ],
   "source": [
    "import pandas as pd\n",
    "\n",
    "# Create a sample DataFrame with the structure you provided\n",
    "data = {\n",
    "    'id': [1, 2, 3, 4, 5],\n",
    "    'name': ['Alice', 'Bob', 'Charlie', 'David', 'Eva'],\n",
    "    'gender': ['F', 'M', 'M', 'M', 'F'],\n",
    "    'species': ['Cat', 'Dog', 'Cat', 'Dog', 'Cat'],\n",
    "    'birthday': ['01-01', '02-02', '03-03', '04-04', '05-05'],\n",
    "    'personality': ['Friendly', 'Aggressive', 'Calm', 'Aggressive', 'Friendly'],\n",
    "    'song': [11, 12, 13, 11, 12],\n",
    "    'phrase': ['Hi', 'Hello', 'Hey', 'Hiya', 'Hola'],\n",
    "    'full_id': [1001, 1002, 1003, 1004, 1005],\n",
    "    'url': ['url1', 'url2', 'url3', 'url4', 'url5']\n",
    "}\n",
    "\n",
    "df = pd.DataFrame(data)\n",
    "# Descriptive statistics for numerical columns\n",
    "print(df.describe())\n",
    "\n",
    "# Count occurrences of species\n",
    "print(df['species'].value_counts())"
   ]
  },
  {
   "cell_type": "code",
   "execution_count": 5,
   "id": "399cadd6",
   "metadata": {},
   "outputs": [
    {
     "name": "stdout",
     "output_type": "stream",
     "text": [
      "(5, 10)\n",
      "             id      song      full_id\n",
      "count  5.000000   5.00000     5.000000\n",
      "mean   3.000000  11.80000  1003.000000\n",
      "std    1.581139   0.83666     1.581139\n",
      "min    1.000000  11.00000  1001.000000\n",
      "25%    2.000000  11.00000  1002.000000\n",
      "50%    3.000000  12.00000  1003.000000\n",
      "75%    4.000000  12.00000  1004.000000\n",
      "max    5.000000  13.00000  1005.000000\n"
     ]
    }
   ],
   "source": [
    "print(df.shape)   # Output: (5, 10)\n",
    "print(df.describe())\n"
   ]
  },
  {
   "cell_type": "code",
   "execution_count": 6,
   "id": "a8f9be17",
   "metadata": {},
   "outputs": [
    {
     "data": {
      "text/html": [
       "<div>\n",
       "<style scoped>\n",
       "    .dataframe tbody tr th:only-of-type {\n",
       "        vertical-align: middle;\n",
       "    }\n",
       "\n",
       "    .dataframe tbody tr th {\n",
       "        vertical-align: top;\n",
       "    }\n",
       "\n",
       "    .dataframe thead th {\n",
       "        text-align: right;\n",
       "    }\n",
       "</style>\n",
       "<table border=\"1\" class=\"dataframe\">\n",
       "  <thead>\n",
       "    <tr style=\"text-align: right;\">\n",
       "      <th></th>\n",
       "      <th>id</th>\n",
       "      <th>name</th>\n",
       "      <th>gender</th>\n",
       "      <th>species</th>\n",
       "      <th>birthday</th>\n",
       "      <th>personality</th>\n",
       "      <th>song</th>\n",
       "      <th>phrase</th>\n",
       "      <th>full_id</th>\n",
       "      <th>url</th>\n",
       "    </tr>\n",
       "  </thead>\n",
       "  <tbody>\n",
       "    <tr>\n",
       "      <th>count</th>\n",
       "      <td>5.000000</td>\n",
       "      <td>5</td>\n",
       "      <td>5</td>\n",
       "      <td>5</td>\n",
       "      <td>5</td>\n",
       "      <td>5</td>\n",
       "      <td>5.00000</td>\n",
       "      <td>5</td>\n",
       "      <td>5.000000</td>\n",
       "      <td>5</td>\n",
       "    </tr>\n",
       "    <tr>\n",
       "      <th>unique</th>\n",
       "      <td>NaN</td>\n",
       "      <td>5</td>\n",
       "      <td>2</td>\n",
       "      <td>2</td>\n",
       "      <td>5</td>\n",
       "      <td>3</td>\n",
       "      <td>NaN</td>\n",
       "      <td>5</td>\n",
       "      <td>NaN</td>\n",
       "      <td>5</td>\n",
       "    </tr>\n",
       "    <tr>\n",
       "      <th>top</th>\n",
       "      <td>NaN</td>\n",
       "      <td>Alice</td>\n",
       "      <td>M</td>\n",
       "      <td>Cat</td>\n",
       "      <td>01-01</td>\n",
       "      <td>Friendly</td>\n",
       "      <td>NaN</td>\n",
       "      <td>Hi</td>\n",
       "      <td>NaN</td>\n",
       "      <td>url1</td>\n",
       "    </tr>\n",
       "    <tr>\n",
       "      <th>freq</th>\n",
       "      <td>NaN</td>\n",
       "      <td>1</td>\n",
       "      <td>3</td>\n",
       "      <td>3</td>\n",
       "      <td>1</td>\n",
       "      <td>2</td>\n",
       "      <td>NaN</td>\n",
       "      <td>1</td>\n",
       "      <td>NaN</td>\n",
       "      <td>1</td>\n",
       "    </tr>\n",
       "    <tr>\n",
       "      <th>mean</th>\n",
       "      <td>3.000000</td>\n",
       "      <td>NaN</td>\n",
       "      <td>NaN</td>\n",
       "      <td>NaN</td>\n",
       "      <td>NaN</td>\n",
       "      <td>NaN</td>\n",
       "      <td>11.80000</td>\n",
       "      <td>NaN</td>\n",
       "      <td>1003.000000</td>\n",
       "      <td>NaN</td>\n",
       "    </tr>\n",
       "    <tr>\n",
       "      <th>std</th>\n",
       "      <td>1.581139</td>\n",
       "      <td>NaN</td>\n",
       "      <td>NaN</td>\n",
       "      <td>NaN</td>\n",
       "      <td>NaN</td>\n",
       "      <td>NaN</td>\n",
       "      <td>0.83666</td>\n",
       "      <td>NaN</td>\n",
       "      <td>1.581139</td>\n",
       "      <td>NaN</td>\n",
       "    </tr>\n",
       "    <tr>\n",
       "      <th>min</th>\n",
       "      <td>1.000000</td>\n",
       "      <td>NaN</td>\n",
       "      <td>NaN</td>\n",
       "      <td>NaN</td>\n",
       "      <td>NaN</td>\n",
       "      <td>NaN</td>\n",
       "      <td>11.00000</td>\n",
       "      <td>NaN</td>\n",
       "      <td>1001.000000</td>\n",
       "      <td>NaN</td>\n",
       "    </tr>\n",
       "    <tr>\n",
       "      <th>25%</th>\n",
       "      <td>2.000000</td>\n",
       "      <td>NaN</td>\n",
       "      <td>NaN</td>\n",
       "      <td>NaN</td>\n",
       "      <td>NaN</td>\n",
       "      <td>NaN</td>\n",
       "      <td>11.00000</td>\n",
       "      <td>NaN</td>\n",
       "      <td>1002.000000</td>\n",
       "      <td>NaN</td>\n",
       "    </tr>\n",
       "    <tr>\n",
       "      <th>50%</th>\n",
       "      <td>3.000000</td>\n",
       "      <td>NaN</td>\n",
       "      <td>NaN</td>\n",
       "      <td>NaN</td>\n",
       "      <td>NaN</td>\n",
       "      <td>NaN</td>\n",
       "      <td>12.00000</td>\n",
       "      <td>NaN</td>\n",
       "      <td>1003.000000</td>\n",
       "      <td>NaN</td>\n",
       "    </tr>\n",
       "    <tr>\n",
       "      <th>75%</th>\n",
       "      <td>4.000000</td>\n",
       "      <td>NaN</td>\n",
       "      <td>NaN</td>\n",
       "      <td>NaN</td>\n",
       "      <td>NaN</td>\n",
       "      <td>NaN</td>\n",
       "      <td>12.00000</td>\n",
       "      <td>NaN</td>\n",
       "      <td>1004.000000</td>\n",
       "      <td>NaN</td>\n",
       "    </tr>\n",
       "    <tr>\n",
       "      <th>max</th>\n",
       "      <td>5.000000</td>\n",
       "      <td>NaN</td>\n",
       "      <td>NaN</td>\n",
       "      <td>NaN</td>\n",
       "      <td>NaN</td>\n",
       "      <td>NaN</td>\n",
       "      <td>13.00000</td>\n",
       "      <td>NaN</td>\n",
       "      <td>1005.000000</td>\n",
       "      <td>NaN</td>\n",
       "    </tr>\n",
       "  </tbody>\n",
       "</table>\n",
       "</div>"
      ],
      "text/plain": [
       "              id   name gender species birthday personality      song phrase  \\\n",
       "count   5.000000      5      5       5        5           5   5.00000      5   \n",
       "unique       NaN      5      2       2        5           3       NaN      5   \n",
       "top          NaN  Alice      M     Cat    01-01    Friendly       NaN     Hi   \n",
       "freq         NaN      1      3       3        1           2       NaN      1   \n",
       "mean    3.000000    NaN    NaN     NaN      NaN         NaN  11.80000    NaN   \n",
       "std     1.581139    NaN    NaN     NaN      NaN         NaN   0.83666    NaN   \n",
       "min     1.000000    NaN    NaN     NaN      NaN         NaN  11.00000    NaN   \n",
       "25%     2.000000    NaN    NaN     NaN      NaN         NaN  11.00000    NaN   \n",
       "50%     3.000000    NaN    NaN     NaN      NaN         NaN  12.00000    NaN   \n",
       "75%     4.000000    NaN    NaN     NaN      NaN         NaN  12.00000    NaN   \n",
       "max     5.000000    NaN    NaN     NaN      NaN         NaN  13.00000    NaN   \n",
       "\n",
       "            full_id   url  \n",
       "count      5.000000     5  \n",
       "unique          NaN     5  \n",
       "top             NaN  url1  \n",
       "freq            NaN     1  \n",
       "mean    1003.000000   NaN  \n",
       "std        1.581139   NaN  \n",
       "min     1001.000000   NaN  \n",
       "25%     1002.000000   NaN  \n",
       "50%     1003.000000   NaN  \n",
       "75%     1004.000000   NaN  \n",
       "max     1005.000000   NaN  "
      ]
     },
     "execution_count": 6,
     "metadata": {},
     "output_type": "execute_result"
    }
   ],
   "source": [
    "df.describe(include='all')"
   ]
  },
  {
   "cell_type": "markdown",
   "id": "cb45f308",
   "metadata": {},
   "source": [
    "Difference between attribute and method: \n",
    "Definition of attribute: An attribute represents a characteristic or property of an object. It is a stored value that you can access directly without invoking any operation or computation."
   ]
  },
  {
   "cell_type": "code",
   "execution_count": 7,
   "id": "9227c6e0",
   "metadata": {},
   "outputs": [
    {
     "name": "stdout",
     "output_type": "stream",
     "text": [
      "(5, 10)\n"
     ]
    }
   ],
   "source": [
    "# Accessing an attribute\n",
    "print(df.shape)"
   ]
  },
  {
   "cell_type": "markdown",
   "id": "aa64ff53",
   "metadata": {},
   "source": [
    "Defenition of methods:A method is a function that is defined within an object. It performs an action or operation on the object. You must use parentheses () to invoke a method, as it typically involves some computation or manipulation of data."
   ]
  },
  {
   "cell_type": "code",
   "execution_count": 8,
   "id": "8d568d62",
   "metadata": {},
   "outputs": [
    {
     "name": "stdout",
     "output_type": "stream",
     "text": [
      "             id      song      full_id\n",
      "count  5.000000   5.00000     5.000000\n",
      "mean   3.000000  11.80000  1003.000000\n",
      "std    1.581139   0.83666     1.581139\n",
      "min    1.000000  11.00000  1001.000000\n",
      "25%    2.000000  11.00000  1002.000000\n",
      "50%    3.000000  12.00000  1003.000000\n",
      "75%    4.000000  12.00000  1004.000000\n",
      "max    5.000000  13.00000  1005.000000\n"
     ]
    }
   ],
   "source": [
    "# Calling a method\n",
    "print(df.describe())\n"
   ]
  },
  {
   "cell_type": "markdown",
   "id": "d4656525",
   "metadata": {},
   "source": [
    "Summary:  attributes provide direct access to information stored within an object, while methods involve executing operations that generate results."
   ]
  },
  {
   "cell_type": "markdown",
   "id": "569d7f01",
   "metadata": {},
   "source": [
    "Summaries of your ChatBot session:"
   ]
  },
  {
   "cell_type": "markdown",
   "id": "66fe7677",
   "metadata": {},
   "source": [
    "1. Dataset Structure & Code for Rows and Columns:\n",
    "You shared a dataset with columns like id, name, gender, species, etc."
   ]
  },
  {
   "cell_type": "markdown",
   "id": "ece12d75",
   "metadata": {},
   "source": [
    "I provided Python code to print the number of rows and columns using df.shape:"
   ]
  },
  {
   "cell_type": "code",
   "execution_count": 9,
   "id": "baf43ba0",
   "metadata": {},
   "outputs": [
    {
     "name": "stdout",
     "output_type": "stream",
     "text": [
      "Number of rows: 5\n",
      "Number of columns: 10\n"
     ]
    }
   ],
   "source": [
    "num_rows, num_cols = df.shape\n",
    "print(f'Number of rows: {num_rows}')\n",
    "print(f'Number of columns: {num_cols}')"
   ]
  },
  {
   "cell_type": "markdown",
   "id": "3baf6f64",
   "metadata": {},
   "source": [
    "2. Definitions of \"Observations\" and \"Variables\":\n",
    "Observations: Each row in the dataset, representing an individual entity (like a character).\n",
    "Variables: Each column in the dataset, representing different attributes of the entities (e.g., name, song, etc.)."
   ]
  },
  {
   "cell_type": "markdown",
   "id": "0a947d99",
   "metadata": {},
   "source": [
    "3. Examples of df.describe() and df['column'].value_counts():\n",
    "df.describe(): Summarizes numeric columns with stats like count, mean, and max"
   ]
  },
  {
   "cell_type": "code",
   "execution_count": 11,
   "id": "f6c1b969",
   "metadata": {},
   "outputs": [
    {
     "name": "stdout",
     "output_type": "stream",
     "text": [
      "             id      song      full_id\n",
      "count  5.000000   5.00000     5.000000\n",
      "mean   3.000000  11.80000  1003.000000\n",
      "std    1.581139   0.83666     1.581139\n",
      "min    1.000000  11.00000  1001.000000\n",
      "25%    2.000000  11.00000  1002.000000\n",
      "50%    3.000000  12.00000  1003.000000\n",
      "75%    4.000000  12.00000  1004.000000\n",
      "max    5.000000  13.00000  1005.000000\n"
     ]
    }
   ],
   "source": [
    "print(df.describe())\n"
   ]
  },
  {
   "cell_type": "markdown",
   "id": "7c418a9e",
   "metadata": {},
   "source": [
    "df['column'].value_counts(): Counts how often each unique value appears in a column (e.g., species)."
   ]
  },
  {
   "cell_type": "code",
   "execution_count": 12,
   "id": "ef31db25",
   "metadata": {},
   "outputs": [
    {
     "name": "stdout",
     "output_type": "stream",
     "text": [
      "species\n",
      "Cat    3\n",
      "Dog    2\n",
      "Name: count, dtype: int64\n"
     ]
    }
   ],
   "source": [
    "print(df['species'].value_counts())\n"
   ]
  },
  {
   "cell_type": "markdown",
   "id": "c66d4c29",
   "metadata": {},
   "source": [
    "4. Difference Between df.shape and df.describe():\n",
    "df.shape: Shows the total number of rows and columns in the dataset.\n",
    "df.describe(): Only analyzes numeric columns and shows stats for non-missing values.\n"
   ]
  },
  {
   "cell_type": "code",
   "execution_count": 13,
   "id": "1d4d22fe",
   "metadata": {},
   "outputs": [
    {
     "data": {
      "text/html": [
       "<div>\n",
       "<style scoped>\n",
       "    .dataframe tbody tr th:only-of-type {\n",
       "        vertical-align: middle;\n",
       "    }\n",
       "\n",
       "    .dataframe tbody tr th {\n",
       "        vertical-align: top;\n",
       "    }\n",
       "\n",
       "    .dataframe thead th {\n",
       "        text-align: right;\n",
       "    }\n",
       "</style>\n",
       "<table border=\"1\" class=\"dataframe\">\n",
       "  <thead>\n",
       "    <tr style=\"text-align: right;\">\n",
       "      <th></th>\n",
       "      <th>id</th>\n",
       "      <th>name</th>\n",
       "      <th>gender</th>\n",
       "      <th>species</th>\n",
       "      <th>birthday</th>\n",
       "      <th>personality</th>\n",
       "      <th>song</th>\n",
       "      <th>phrase</th>\n",
       "      <th>full_id</th>\n",
       "      <th>url</th>\n",
       "    </tr>\n",
       "  </thead>\n",
       "  <tbody>\n",
       "    <tr>\n",
       "      <th>count</th>\n",
       "      <td>5.000000</td>\n",
       "      <td>5</td>\n",
       "      <td>5</td>\n",
       "      <td>5</td>\n",
       "      <td>5</td>\n",
       "      <td>5</td>\n",
       "      <td>5.00000</td>\n",
       "      <td>5</td>\n",
       "      <td>5.000000</td>\n",
       "      <td>5</td>\n",
       "    </tr>\n",
       "    <tr>\n",
       "      <th>unique</th>\n",
       "      <td>NaN</td>\n",
       "      <td>5</td>\n",
       "      <td>2</td>\n",
       "      <td>2</td>\n",
       "      <td>5</td>\n",
       "      <td>3</td>\n",
       "      <td>NaN</td>\n",
       "      <td>5</td>\n",
       "      <td>NaN</td>\n",
       "      <td>5</td>\n",
       "    </tr>\n",
       "    <tr>\n",
       "      <th>top</th>\n",
       "      <td>NaN</td>\n",
       "      <td>Alice</td>\n",
       "      <td>M</td>\n",
       "      <td>Cat</td>\n",
       "      <td>01-01</td>\n",
       "      <td>Friendly</td>\n",
       "      <td>NaN</td>\n",
       "      <td>Hi</td>\n",
       "      <td>NaN</td>\n",
       "      <td>url1</td>\n",
       "    </tr>\n",
       "    <tr>\n",
       "      <th>freq</th>\n",
       "      <td>NaN</td>\n",
       "      <td>1</td>\n",
       "      <td>3</td>\n",
       "      <td>3</td>\n",
       "      <td>1</td>\n",
       "      <td>2</td>\n",
       "      <td>NaN</td>\n",
       "      <td>1</td>\n",
       "      <td>NaN</td>\n",
       "      <td>1</td>\n",
       "    </tr>\n",
       "    <tr>\n",
       "      <th>mean</th>\n",
       "      <td>3.000000</td>\n",
       "      <td>NaN</td>\n",
       "      <td>NaN</td>\n",
       "      <td>NaN</td>\n",
       "      <td>NaN</td>\n",
       "      <td>NaN</td>\n",
       "      <td>11.80000</td>\n",
       "      <td>NaN</td>\n",
       "      <td>1003.000000</td>\n",
       "      <td>NaN</td>\n",
       "    </tr>\n",
       "    <tr>\n",
       "      <th>std</th>\n",
       "      <td>1.581139</td>\n",
       "      <td>NaN</td>\n",
       "      <td>NaN</td>\n",
       "      <td>NaN</td>\n",
       "      <td>NaN</td>\n",
       "      <td>NaN</td>\n",
       "      <td>0.83666</td>\n",
       "      <td>NaN</td>\n",
       "      <td>1.581139</td>\n",
       "      <td>NaN</td>\n",
       "    </tr>\n",
       "    <tr>\n",
       "      <th>min</th>\n",
       "      <td>1.000000</td>\n",
       "      <td>NaN</td>\n",
       "      <td>NaN</td>\n",
       "      <td>NaN</td>\n",
       "      <td>NaN</td>\n",
       "      <td>NaN</td>\n",
       "      <td>11.00000</td>\n",
       "      <td>NaN</td>\n",
       "      <td>1001.000000</td>\n",
       "      <td>NaN</td>\n",
       "    </tr>\n",
       "    <tr>\n",
       "      <th>25%</th>\n",
       "      <td>2.000000</td>\n",
       "      <td>NaN</td>\n",
       "      <td>NaN</td>\n",
       "      <td>NaN</td>\n",
       "      <td>NaN</td>\n",
       "      <td>NaN</td>\n",
       "      <td>11.00000</td>\n",
       "      <td>NaN</td>\n",
       "      <td>1002.000000</td>\n",
       "      <td>NaN</td>\n",
       "    </tr>\n",
       "    <tr>\n",
       "      <th>50%</th>\n",
       "      <td>3.000000</td>\n",
       "      <td>NaN</td>\n",
       "      <td>NaN</td>\n",
       "      <td>NaN</td>\n",
       "      <td>NaN</td>\n",
       "      <td>NaN</td>\n",
       "      <td>12.00000</td>\n",
       "      <td>NaN</td>\n",
       "      <td>1003.000000</td>\n",
       "      <td>NaN</td>\n",
       "    </tr>\n",
       "    <tr>\n",
       "      <th>75%</th>\n",
       "      <td>4.000000</td>\n",
       "      <td>NaN</td>\n",
       "      <td>NaN</td>\n",
       "      <td>NaN</td>\n",
       "      <td>NaN</td>\n",
       "      <td>NaN</td>\n",
       "      <td>12.00000</td>\n",
       "      <td>NaN</td>\n",
       "      <td>1004.000000</td>\n",
       "      <td>NaN</td>\n",
       "    </tr>\n",
       "    <tr>\n",
       "      <th>max</th>\n",
       "      <td>5.000000</td>\n",
       "      <td>NaN</td>\n",
       "      <td>NaN</td>\n",
       "      <td>NaN</td>\n",
       "      <td>NaN</td>\n",
       "      <td>NaN</td>\n",
       "      <td>13.00000</td>\n",
       "      <td>NaN</td>\n",
       "      <td>1005.000000</td>\n",
       "      <td>NaN</td>\n",
       "    </tr>\n",
       "  </tbody>\n",
       "</table>\n",
       "</div>"
      ],
      "text/plain": [
       "              id   name gender species birthday personality      song phrase  \\\n",
       "count   5.000000      5      5       5        5           5   5.00000      5   \n",
       "unique       NaN      5      2       2        5           3       NaN      5   \n",
       "top          NaN  Alice      M     Cat    01-01    Friendly       NaN     Hi   \n",
       "freq         NaN      1      3       3        1           2       NaN      1   \n",
       "mean    3.000000    NaN    NaN     NaN      NaN         NaN  11.80000    NaN   \n",
       "std     1.581139    NaN    NaN     NaN      NaN         NaN   0.83666    NaN   \n",
       "min     1.000000    NaN    NaN     NaN      NaN         NaN  11.00000    NaN   \n",
       "25%     2.000000    NaN    NaN     NaN      NaN         NaN  11.00000    NaN   \n",
       "50%     3.000000    NaN    NaN     NaN      NaN         NaN  12.00000    NaN   \n",
       "75%     4.000000    NaN    NaN     NaN      NaN         NaN  12.00000    NaN   \n",
       "max     5.000000    NaN    NaN     NaN      NaN         NaN  13.00000    NaN   \n",
       "\n",
       "            full_id   url  \n",
       "count      5.000000     5  \n",
       "unique          NaN     5  \n",
       "top             NaN  url1  \n",
       "freq            NaN     1  \n",
       "mean    1003.000000   NaN  \n",
       "std        1.581139   NaN  \n",
       "min     1001.000000   NaN  \n",
       "25%     1002.000000   NaN  \n",
       "50%     1003.000000   NaN  \n",
       "75%     1004.000000   NaN  \n",
       "max     1005.000000   NaN  "
      ]
     },
     "execution_count": 13,
     "metadata": {},
     "output_type": "execute_result"
    }
   ],
   "source": [
    "df.describe(include='all')\n"
   ]
  },
  {
   "cell_type": "markdown",
   "id": "3b5ced15",
   "metadata": {},
   "source": [
    "5. Difference Between an Attribute and a Method:\n",
    "Attributes: No parentheses, used to access stored values, like df.shape.\n",
    "Methods: Have parentheses, used to perform actions, like df.describe().\n"
   ]
  },
  {
   "cell_type": "markdown",
   "id": "2c813edb",
   "metadata": {},
   "source": [
    "My Chat GTP chatbox:https://chatgpt.com/share/42ce1550-4316-41bf-8aaf-1f39baed9b65"
   ]
  },
  {
   "cell_type": "markdown",
   "id": "3ddfd48c",
   "metadata": {},
   "source": [
    "Defenitions of: \n",
    "Count: the number of non-missing (non-NaN) values in each column.\n",
    "\n",
    "Mean: The average of the values in the column.\n",
    "\n",
    "Standard Deviation (std):  A measure of how much the values in the column deviate from the mean. It shows the spread or variability of the data.\n",
    "\n",
    "Min:The minimum value in the column.\n",
    "\n",
    "25% (First Quartile):The value below which 25% of the data falls. It’s also called the first quartile (Q1) and helps understand the lower spread of the data.\n",
    "\n",
    "50% (Median):The middle value in the dataset, where half the values are above and half are below.\n",
    "\n",
    "75% (Third Quartile):The value below which 75% of the data falls. It’s also called the third quartile (Q3) and helps understand the upper spread of the data.\n",
    "\n",
    "Max:The maximum value in the column."
   ]
  },
  {
   "cell_type": "markdown",
   "id": "02e099c1",
   "metadata": {},
   "source": [
    "1. Provide an example of a \"use case\" in which using df.dropna() might be preferred over using del df['col']"
   ]
  },
  {
   "cell_type": "markdown",
   "id": "9dc2f655",
   "metadata": {},
   "source": [
    "The purpose of df.dropna() is to drop rows with missing values (NaN) from the DataFrame, while preserving the rest of the data. As an example, I have a dataset with some rows containing missing values in specific columns (e.g., song with 11), and I want to keep the column but remove rows where the data is incomplete. Therefore, we use df.dropna() for the purpose of selective removal;only remove rows with missing values, not the whole column. "
   ]
  },
  {
   "cell_type": "markdown",
   "id": "9568c27e",
   "metadata": {},
   "source": [
    "Example of Use case of our dataset:"
   ]
  },
  {
   "cell_type": "code",
   "execution_count": null,
   "id": "1d90fd55",
   "metadata": {},
   "outputs": [],
   "source": [
    "# Drop rows with missing values in the 'song' column\n",
    "df_cleaned = df.dropna(subset=['song'])"
   ]
  },
  {
   "cell_type": "markdown",
   "id": "55fc735e",
   "metadata": {},
   "source": [
    "2. Provide an example of \"the opposite use case\" in which using del df['col'] might be preferred over using df.dropna()\n"
   ]
  },
  {
   "cell_type": "markdown",
   "id": "9fbbf54a",
   "metadata": {},
   "source": [
    "the purpse of del df['col']is to completely remove a column from the DataFrame. I no longer need the url column (or any other column), so it’s better to delete it rather than focus on individual rows. Also, by removing unnecessary columns, I make the DataFrame cleaner and easier to work with."
   ]
  },
  {
   "cell_type": "markdown",
   "id": "260f1adb",
   "metadata": {},
   "source": [
    "3. Discuss why applying del df['col'] before df.dropna() when both are used together could be important"
   ]
  },
  {
   "cell_type": "markdown",
   "id": "49a1f2d5",
   "metadata": {},
   "source": [
    "When using del df['col'] and df.dropna() together, it's important to remove irrelevant columns first with del df['col'] because this avoids dropping rows based on missing values in columns you don’t need. After deleting irrelevant columns, apply df.dropna() to clean rows with missing values in the important columns which ensures that only rows with missing data in relevant columns are removed. Therefore, I could prevent unnecessary data loss and make my dataset cleaning process more efficient and accurate."
   ]
  },
  {
   "cell_type": "markdown",
   "id": "ea5ef852",
   "metadata": {},
   "source": [
    "4. Remove all missing data from one of the datasets you're considering using some combination of del df['col'] and/or df.dropna() and give a justification for your approach, including a \"before and after\" report of the results of your approach for your dataset."
   ]
  },
  {
   "cell_type": "markdown",
   "id": "4ba19533",
   "metadata": {},
   "source": [
    "Approach: First, remove irrelevant columns.\n",
    "If the url or any other column is irrelevant to my analysis, I can use del df['col'] to remove them. This ensures that missing data in unnecessary columns doesn’t affect your cleaning.\n",
    "Justification: Dropping irrelevant columns reduces the chance of accidentally removing rows due to missing data in unimportant columns."
   ]
  },
  {
   "cell_type": "code",
   "execution_count": null,
   "id": "be9ca73d",
   "metadata": {},
   "outputs": [],
   "source": [
    "# Example of removing irrelevant columns\n",
    "del df['url']  # Remove if not needed"
   ]
  },
  {
   "cell_type": "markdown",
   "id": "5873ed1a",
   "metadata": {},
   "source": [
    "Then, remove rows with missing data. After removing unnecessary columns, use df.dropna() to remove rows with missing values in important columns like song.\n",
    "Justification: This ensures that only rows with missing values in columns crucial to your analysis (e.g., song) are removed, retaining relevant and complete data."
   ]
  },
  {
   "cell_type": "code",
   "execution_count": null,
   "id": "0e79a079",
   "metadata": {},
   "outputs": [],
   "source": [
    "# Drop rows with missing values in the 'song' column\n",
    "df_cleaned = df.dropna(subset=['song'])"
   ]
  },
  {
   "cell_type": "markdown",
   "id": "6dc5973f",
   "metadata": {},
   "source": [
    "Before:\n",
    "Shape of dataset: df.shape before cleaning might look like (100, 10) (just an example, depending on your dataset size).\n",
    "Missing values:\n",
    "song: 11 missing values\n",
    "url: Some missing values, potentially irrelevant\n",
    "    \n",
    "After:\n",
    "After using del df['url'] and df.dropna(subset=['song']):\n",
    "Shape of cleaned dataset: df_cleaned.shape might now be (89, 9), meaning 11 rows were removed based on missing song values, and one column (like url) was deleted."
   ]
  },
  {
   "cell_type": "markdown",
   "id": "a22f3799",
   "metadata": {},
   "source": [
    "chat box history: https://chatgpt.com/share/42ce1550-4316-41bf-8aaf-1f39baed9b65"
   ]
  },
  {
   "cell_type": "code",
   "execution_count": null,
   "id": "53f860fd",
   "metadata": {},
   "outputs": [],
   "source": []
  }
 ],
 "metadata": {
  "kernelspec": {
   "display_name": "Python 3 (ipykernel)",
   "language": "python",
   "name": "python3"
  },
  "language_info": {
   "codemirror_mode": {
    "name": "ipython",
    "version": 3
   },
   "file_extension": ".py",
   "mimetype": "text/x-python",
   "name": "python",
   "nbconvert_exporter": "python",
   "pygments_lexer": "ipython3",
   "version": "3.11.6"
  }
 },
 "nbformat": 4,
 "nbformat_minor": 5
}
